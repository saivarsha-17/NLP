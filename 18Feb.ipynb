{
 "cells": [
  {
   "cell_type": "code",
   "execution_count": 2,
   "id": "4cd7730f-5782-473b-b3ae-5143856af637",
   "metadata": {},
   "outputs": [
    {
     "name": "stdout",
     "output_type": "stream",
     "text": [
      "Requirement already satisfied: requests in c:\\users\\csrkp\\anaconda3\\lib\\site-packages (2.31.0)\n",
      "Requirement already satisfied: beautifulsoup4 in c:\\users\\csrkp\\anaconda3\\lib\\site-packages (4.12.2)\n",
      "Requirement already satisfied: charset-normalizer<4,>=2 in c:\\users\\csrkp\\anaconda3\\lib\\site-packages (from requests) (2.0.4)\n",
      "Requirement already satisfied: idna<4,>=2.5 in c:\\users\\csrkp\\anaconda3\\lib\\site-packages (from requests) (3.4)\n",
      "Requirement already satisfied: urllib3<3,>=1.21.1 in c:\\users\\csrkp\\anaconda3\\lib\\site-packages (from requests) (2.0.7)\n",
      "Requirement already satisfied: certifi>=2017.4.17 in c:\\users\\csrkp\\anaconda3\\lib\\site-packages (from requests) (2024.2.2)\n",
      "Requirement already satisfied: soupsieve>1.2 in c:\\users\\csrkp\\anaconda3\\lib\\site-packages (from beautifulsoup4) (2.5)\n",
      "Note: you may need to restart the kernel to use updated packages.\n"
     ]
    }
   ],
   "source": [
    "pip install requests beautifulsoup4"
   ]
  },
  {
   "cell_type": "code",
   "execution_count": 10,
   "id": "a09999fb-f706-4e94-ab8c-59d29845712c",
   "metadata": {},
   "outputs": [
    {
     "name": "stdout",
     "output_type": "stream",
     "text": [
      "1. \"“The world as we have created it is a process of our thinking. It cannot be changed without changing our thinking.”\" - Albert Einstein\n",
      "Tags: change, deep-thoughts, thinking, world\n",
      "\n",
      "2. \"“It is our choices, Harry, that show what we truly are, far more than our abilities.”\" - J.K. Rowling\n",
      "Tags: abilities, choices\n",
      "\n",
      "3. \"“There are only two ways to live your life. One is as though nothing is a miracle. The other is as though everything is a miracle.”\" - Albert Einstein\n",
      "Tags: inspirational, life, live, miracle, miracles\n",
      "\n",
      "4. \"“The person, be it gentleman or lady, who has not pleasure in a good novel, must be intolerably stupid.”\" - Jane Austen\n",
      "Tags: aliteracy, books, classic, humor\n",
      "\n",
      "5. \"“Imperfection is beauty, madness is genius and it's better to be absolutely ridiculous than absolutely boring.”\" - Marilyn Monroe\n",
      "Tags: be-yourself, inspirational\n",
      "\n"
     ]
    }
   ],
   "source": [
    "import requests\n",
    "from bs4 import BeautifulSoup\n",
    "\n",
    "url = \"http://quotes.toscrape.com/\"\n",
    "response = requests.get(url)\n",
    "\n",
    "if response.status_code == 200:\n",
    "    soup = BeautifulSoup(response.text, 'html.parser')\n",
    "    quotes = soup.find_all(\"div\", class_=\"quote\")\n",
    "\n",
    "    for i, quote in enumerate(quotes[:5]): \n",
    "        text = quote.find(\"span\", class_=\"text\").text \n",
    "        author = quote.find(\"small\", class_=\"author\").text \n",
    "        tags = [tag.text for tag in quote.find_all(\"a\", class_=\"tag\")]  \n",
    "\n",
    "        print(f\"{i+1}. \\\"{text}\\\" - {author}\")\n",
    "        print(f\"Tags: {', '.join(tags)}\\n\")\n",
    "else:\n",
    "    print(f\"Failed to retrieve the webpage. Status Code: {response.status_code}\")\n"
   ]
  },
  {
   "cell_type": "code",
   "execution_count": 14,
   "id": "7e0c2ec5-43f6-469e-91f0-19887a448573",
   "metadata": {},
   "outputs": [
    {
     "name": "stdout",
     "output_type": "stream",
     "text": [
      "Current Weather in Hyderabad: 32 °C | N/A\n"
     ]
    }
   ],
   "source": [
    "import requests\n",
    "from bs4 import BeautifulSoup\n",
    "\n",
    "city = \"india/hyderabad\"\n",
    "url = f\"https://www.timeanddate.com/weather/{city}\"\n",
    "\n",
    "response = requests.get(url)\n",
    "\n",
    "if response.status_code == 200:\n",
    "    soup = BeautifulSoup(response.text, 'html.parser')\n",
    "\n",
    "    temp_tag = soup.find(\"div\", class_=\"h2\")\n",
    "    temp = temp_tag.text.strip() if temp_tag else \"N/A\"\n",
    "\n",
    "    desc_tag = soup.find(\"p\", class_=\"small txt\")\n",
    "    desc = desc_tag.text.strip() if desc_tag else \"N/A\"\n",
    "\n",
    "    print(f\"Current Weather in Hyderabad: {temp} | {desc}\")\n",
    "else:\n",
    "    print(f\"Failed to retrieve data. Status Code: {response.status_code}\")\n"
   ]
  },
  {
   "cell_type": "code",
   "execution_count": 15,
   "id": "f718a51b-c10d-4f24-b3c4-f3c4df32dce7",
   "metadata": {},
   "outputs": [
    {
     "name": "stdout",
     "output_type": "stream",
     "text": [
      "Product: Life is easier on iPhone.\n",
      "Price: Rs.61,499\n"
     ]
    }
   ],
   "source": [
    "import requests\n",
    "from bs4 import BeautifulSoup\n",
    "\n",
    "search_url = \"https://www.amazon.in/s?k=iphone&crid=PQVCJSNISAH4&sprefix=iphone%2Caps%2C233&ref=nb_sb_noss_2s\"\n",
    "headers = {\n",
    "    \"User-Agent\": \"Mozilla/5.0 (Windows NT 10.0; Win64; x64) AppleWebkit/537.36 (KHTML, like Gecko) Chrome/91.0.4472.\"\n",
    "}\n",
    "response = requests.get(search_url, headers=headers)\n",
    "soup = BeautifulSoup(response.text, \"html.parser\")\n",
    "product = soup.select_one(\"span.a-size-medium\")\n",
    "price = soup.select_one(\"span.a-price-whole\")\n",
    "if product and price:\n",
    "    print(f\"Product: {product.text.strip()}\")\n",
    "    print(f\"Price: Rs.{price.text.strip()}\")\n",
    "else:\n",
    "    print(\"Could not find product details.\")"
   ]
  },
  {
   "cell_type": "code",
   "execution_count": 20,
   "id": "04dd685b-6dca-4c9d-93fa-0c666611cac2",
   "metadata": {},
   "outputs": [
    {
     "name": "stdout",
     "output_type": "stream",
     "text": [
      "World: 8,119,000,000\n",
      "China: 1,408,280,000\n",
      "1,402,737,000: 17.2%\n",
      "United States: 340,110,988\n",
      "Indonesia: 282,477,584\n",
      "Pakistan: 241,499,431\n",
      "Nigeria: 223,800,000\n",
      "Brazil: 212,583,750\n",
      "Bangladesh: 169,828,911\n",
      "Russia: 146,150,789\n",
      "Mexico: 130,154,247\n",
      "Japan: 123,590,000\n",
      "Philippines: 114,123,600\n",
      "Ethiopia: 109,499,000\n",
      "Democratic Republic of the Congo: 109,276,000\n"
     ]
    }
   ],
   "source": [
    "url = \"https://en.wikipedia.org/wiki/List_of_countries_and_dependencies_by_population\"\n",
    "response=requests.get(url,headers=headers)\n",
    "soup=BeautifulSoup(response.text,\"html.parser\")\n",
    "table=soup.find(\"table\",class_=\"wikitable\")\n",
    "for row in table.find_all(\"tr\")[1:16]:\n",
    "    columns=row.find_all(\"td\")\n",
    "    country=columns[1].text.strip()\n",
    "    population=columns[2].text.strip()\n",
    "    print(f\"{country}: {population}\")"
   ]
  },
  {
   "cell_type": "code",
   "execution_count": 23,
   "id": "43f853b4-223f-4d31-96d1-6ae6252eb5bd",
   "metadata": {},
   "outputs": [],
   "source": [
    "from IPython.display import display,HTML"
   ]
  },
  {
   "cell_type": "code",
   "execution_count": 26,
   "id": "3d6a54fd-be39-451d-9dc8-a649aebae3eb",
   "metadata": {},
   "outputs": [
    {
     "data": {
      "text/html": [
       "\n",
       "<h2>Sample Table</h2>\n",
       "<table border=\"1\">\n",
       "    <tr>\n",
       "        <th>Name</th>\n",
       "        <th>Age</th>\n",
       "        <th>City</th>\n",
       "    </tr>\n",
       "    <tr>\n",
       "        <td>Alice</td>\n",
       "        <td>25</td>\n",
       "        <td>New York</td>\n",
       "    </tr>\n",
       "    <tr>\n",
       "        <td>Bob</td>\n",
       "        <td>30</td>\n",
       "        <td>Los Angeles</td>\n",
       "    </tr>\n",
       "    <tr>\n",
       "        <td>Charlie</td>\n",
       "        <td>28</td>\n",
       "        <td>Chicago</td>\n",
       "    </tr>\n",
       "</table>\n"
      ],
      "text/plain": [
       "<IPython.core.display.HTML object>"
      ]
     },
     "metadata": {},
     "output_type": "display_data"
    }
   ],
   "source": [
    "html_code = \"\"\"\n",
    "<h2>Sample Table</h2>\n",
    "<table border=\"1\">\n",
    "    <tr>\n",
    "        <th>Name</th>\n",
    "        <th>Age</th>\n",
    "        <th>City</th>\n",
    "    </tr>\n",
    "    <tr>\n",
    "        <td>Alice</td>\n",
    "        <td>25</td>\n",
    "        <td>New York</td>\n",
    "    </tr>\n",
    "    <tr>\n",
    "        <td>Bob</td>\n",
    "        <td>30</td>\n",
    "        <td>Los Angeles</td>\n",
    "    </tr>\n",
    "    <tr>\n",
    "        <td>Charlie</td>\n",
    "        <td>28</td>\n",
    "        <td>Chicago</td>\n",
    "    </tr>\n",
    "</table>\n",
    "\"\"\"\n",
    "\n",
    "display(HTML(html_code))"
   ]
  }
 ],
 "metadata": {
  "kernelspec": {
   "display_name": "Python 3 (ipykernel)",
   "language": "python",
   "name": "python3"
  },
  "language_info": {
   "codemirror_mode": {
    "name": "ipython",
    "version": 3
   },
   "file_extension": ".py",
   "mimetype": "text/x-python",
   "name": "python",
   "nbconvert_exporter": "python",
   "pygments_lexer": "ipython3",
   "version": "3.11.7"
  }
 },
 "nbformat": 4,
 "nbformat_minor": 5
}
