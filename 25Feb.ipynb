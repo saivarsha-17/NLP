{
 "cells": [
  {
   "cell_type": "code",
   "execution_count": 3,
   "id": "a38e0cfe-5828-4a42-af73-6c44e8bfee16",
   "metadata": {},
   "outputs": [
    {
     "name": "stdout",
     "output_type": "stream",
     "text": [
      "Requirement already satisfied: gTTS in c:\\users\\csrkp\\anaconda3\\lib\\site-packages (2.5.4)\n",
      "Requirement already satisfied: requests<3,>=2.27 in c:\\users\\csrkp\\anaconda3\\lib\\site-packages (from gTTS) (2.31.0)\n",
      "Requirement already satisfied: click<8.2,>=7.1 in c:\\users\\csrkp\\anaconda3\\lib\\site-packages (from gTTS) (8.1.7)\n",
      "Requirement already satisfied: colorama in c:\\users\\csrkp\\anaconda3\\lib\\site-packages (from click<8.2,>=7.1->gTTS) (0.4.6)\n",
      "Requirement already satisfied: charset-normalizer<4,>=2 in c:\\users\\csrkp\\anaconda3\\lib\\site-packages (from requests<3,>=2.27->gTTS) (2.0.4)\n",
      "Requirement already satisfied: idna<4,>=2.5 in c:\\users\\csrkp\\anaconda3\\lib\\site-packages (from requests<3,>=2.27->gTTS) (3.4)\n",
      "Requirement already satisfied: urllib3<3,>=1.21.1 in c:\\users\\csrkp\\anaconda3\\lib\\site-packages (from requests<3,>=2.27->gTTS) (2.0.7)\n",
      "Requirement already satisfied: certifi>=2017.4.17 in c:\\users\\csrkp\\anaconda3\\lib\\site-packages (from requests<3,>=2.27->gTTS) (2024.2.2)\n"
     ]
    }
   ],
   "source": [
    "!pip install gTTS"
   ]
  },
  {
   "cell_type": "code",
   "execution_count": 4,
   "id": "35e20d33-71bb-4abc-bd47-cb01cd4f0c21",
   "metadata": {},
   "outputs": [],
   "source": [
    "from gtts import gTTS"
   ]
  },
  {
   "cell_type": "code",
   "execution_count": 5,
   "id": "2e87b77d-6074-46bd-b9c3-b9932d833f08",
   "metadata": {},
   "outputs": [],
   "source": [
    "convert = gTTS(text='I like this NLP. How about dude!',lang=\"en\",slow=False)\n",
    "convert.save(\"audio.mp3\")"
   ]
  },
  {
   "cell_type": "code",
   "execution_count": 6,
   "id": "df76a661-5d71-4ed8-93fb-5409fbc51581",
   "metadata": {},
   "outputs": [
    {
     "name": "stdout",
     "output_type": "stream",
     "text": [
      "Requirement already satisfied: pyttsx3 in c:\\users\\csrkp\\anaconda3\\lib\\site-packages (2.98)\n",
      "Requirement already satisfied: comtypes in c:\\users\\csrkp\\anaconda3\\lib\\site-packages (from pyttsx3) (1.4.10)\n",
      "Requirement already satisfied: pypiwin32 in c:\\users\\csrkp\\anaconda3\\lib\\site-packages (from pyttsx3) (223)\n",
      "Requirement already satisfied: pywin32 in c:\\users\\csrkp\\anaconda3\\lib\\site-packages (from pyttsx3) (305.1)\n"
     ]
    }
   ],
   "source": [
    "!pip install pyttsx3"
   ]
  },
  {
   "cell_type": "code",
   "execution_count": 7,
   "id": "96b14032-fd7e-4f85-9f57-c5dacb984f3c",
   "metadata": {},
   "outputs": [],
   "source": [
    "import pyttsx3\n",
    "engine=pyttsx3.init()\n",
    "engine.say(\"Hi, I am text to speech\")\n",
    "engine.runAndWait()"
   ]
  },
  {
   "cell_type": "code",
   "execution_count": 8,
   "id": "8a6c1365-6b95-4d39-a91a-723fac52a00b",
   "metadata": {},
   "outputs": [],
   "source": [
    "text = [\n",
    "    \"Speech recognition powered by NLP enables machines to convert spoken language into text with high accuracy.\",\n",
    "    \"Using deep learning models and linguistic processing, modern systems can handle diverse accents, noise, and contextual variations.\",\n",
    "    \"This technology is widely used in voice assistants, transcription services, and accessibility tools, improving human-computer interactions.\"\n",
    "]\n"
   ]
  },
  {
   "cell_type": "code",
   "execution_count": 10,
   "id": "ec677a3d-d980-4c25-a4f9-8cb50a694400",
   "metadata": {},
   "outputs": [],
   "source": [
    "engine=pyttsx3.init()\n",
    "engine.say(text)\n",
    "engine.runAndWait()"
   ]
  },
  {
   "cell_type": "code",
   "execution_count": 11,
   "id": "5ade7c30-6abf-4c79-95d8-fdc646443a3e",
   "metadata": {},
   "outputs": [
    {
     "name": "stdout",
     "output_type": "stream",
     "text": [
      "200\n"
     ]
    }
   ],
   "source": [
    "import pyttsx3\n",
    "engine=pyttsx3.init()\n",
    "\n",
    "rate=engine.getProperty('rate')\n",
    "print(rate)\n",
    "engine.setProperty('rate',150)\n",
    "\n",
    "volume=engine.getProperty('volume')\n",
    "engine.setProperty('volume',1.0)\n",
    "voices=engine.getProperty('voices')\n",
    "\n",
    "engine.setProperty('voice',voices[1].id)\n",
    "engine.say(\"Hello World!\")"
   ]
  },
  {
   "cell_type": "code",
   "execution_count": null,
   "id": "ef0137e0-1951-4274-b2c8-015c2acd8356",
   "metadata": {},
   "outputs": [],
   "source": [
    "!pip install goslate"
   ]
  },
  {
   "cell_type": "code",
   "execution_count": null,
   "id": "243b7aef-81b1-4b0c-8d1d-350369543cdd",
   "metadata": {},
   "outputs": [],
   "source": [
    "text=\"Bonjour le monde\""
   ]
  },
  {
   "cell_type": "code",
   "execution_count": null,
   "id": "467faffd-de10-4357-9f59-a05004251578",
   "metadata": {},
   "outputs": [],
   "source": [
    "gs=goslate.Gosalte()\n",
    "translatedText=gs.translate(text,'en')\n",
    "print(transaltedText)"
   ]
  },
  {
   "cell_type": "code",
   "execution_count": 12,
   "id": "ba185bd9-13ba-45f2-9238-5bf14443a5d5",
   "metadata": {},
   "outputs": [
    {
     "name": "stdout",
     "output_type": "stream",
     "text": [
      "Requirement already satisfied: translate in c:\\users\\csrkp\\anaconda3\\lib\\site-packages (3.6.1)\n",
      "Requirement already satisfied: click in c:\\users\\csrkp\\anaconda3\\lib\\site-packages (from translate) (8.1.7)\n",
      "Requirement already satisfied: lxml in c:\\users\\csrkp\\anaconda3\\lib\\site-packages (from translate) (5.3.1)\n",
      "Requirement already satisfied: requests in c:\\users\\csrkp\\anaconda3\\lib\\site-packages (from translate) (2.31.0)\n",
      "Requirement already satisfied: libretranslatepy==2.1.1 in c:\\users\\csrkp\\anaconda3\\lib\\site-packages (from translate) (2.1.1)\n",
      "Requirement already satisfied: colorama in c:\\users\\csrkp\\anaconda3\\lib\\site-packages (from click->translate) (0.4.6)\n",
      "Requirement already satisfied: charset-normalizer<4,>=2 in c:\\users\\csrkp\\anaconda3\\lib\\site-packages (from requests->translate) (2.0.4)\n",
      "Requirement already satisfied: idna<4,>=2.5 in c:\\users\\csrkp\\anaconda3\\lib\\site-packages (from requests->translate) (3.4)\n",
      "Requirement already satisfied: urllib3<3,>=1.21.1 in c:\\users\\csrkp\\anaconda3\\lib\\site-packages (from requests->translate) (2.0.7)\n",
      "Requirement already satisfied: certifi>=2017.4.17 in c:\\users\\csrkp\\anaconda3\\lib\\site-packages (from requests->translate) (2024.2.2)\n"
     ]
    }
   ],
   "source": [
    "!pip install translate"
   ]
  },
  {
   "cell_type": "code",
   "execution_count": 13,
   "id": "a1a9786f-a6d8-4fe0-a8ea-40240c48a18e",
   "metadata": {},
   "outputs": [
    {
     "data": {
      "text/plain": [
       "'ఎలా ఉనారు ?'"
      ]
     },
     "execution_count": 13,
     "metadata": {},
     "output_type": "execute_result"
    }
   ],
   "source": [
    "from translate import Translator\n",
    "translator = Translator(to_lang=\"te\")\n",
    "translation=translator.translate(\"How are you?\")\n",
    "translation"
   ]
  },
  {
   "cell_type": "code",
   "execution_count": 14,
   "id": "97b22a5d-4b50-4553-8683-69244f3a80e0",
   "metadata": {},
   "outputs": [
    {
     "data": {
      "text/plain": [
       "'உங்கள் மகள் எப்படி இருக்கிறார்?'"
      ]
     },
     "execution_count": 14,
     "metadata": {},
     "output_type": "execute_result"
    }
   ],
   "source": [
    "from translate import Translator\n",
    "translator = Translator(to_lang=\"ta\")\n",
    "translation=translator.translate(\"How are you?\")\n",
    "translation"
   ]
  },
  {
   "cell_type": "code",
   "execution_count": 15,
   "id": "3290f13f-496c-4fb4-9ae4-1bf41114c210",
   "metadata": {},
   "outputs": [
    {
     "data": {
      "text/plain": [
       "'안녕하세요! '"
      ]
     },
     "execution_count": 15,
     "metadata": {},
     "output_type": "execute_result"
    }
   ],
   "source": [
    "from translate import Translator\n",
    "translator = Translator(to_lang=\"ko\")\n",
    "translation=translator.translate(\"Hello!\")\n",
    "translation"
   ]
  },
  {
   "cell_type": "code",
   "execution_count": null,
   "id": "01175c3c-41b1-40f0-9629-ea8dde22e136",
   "metadata": {},
   "outputs": [],
   "source": [
    "!pip uninstall python-vlc\n",
    "!pip install python-vlc"
   ]
  },
  {
   "cell_type": "code",
   "execution_count": null,
   "id": "cacb15d6-3a62-44e4-a5a6-f2746eab5cb1",
   "metadata": {},
   "outputs": [],
   "source": [
    "import os\n",
    "import vlc\n",
    "\n",
    "os.add_dll_directory(r\"C:\\Program Files\\VideoLAN\\VLC\")\n",
    "\n",
    "# Initialize VLC player\n",
    "p = vlc.MediaPlayer(\"audio.mp3\")\n",
    "p.play()\n"
   ]
  },
  {
   "cell_type": "code",
   "execution_count": null,
   "id": "95922efe-57b8-4e22-96b7-c86c7fbf6db0",
   "metadata": {},
   "outputs": [],
   "source": []
  }
 ],
 "metadata": {
  "kernelspec": {
   "display_name": "Python 3 (ipykernel)",
   "language": "python",
   "name": "python3"
  },
  "language_info": {
   "codemirror_mode": {
    "name": "ipython",
    "version": 3
   },
   "file_extension": ".py",
   "mimetype": "text/x-python",
   "name": "python",
   "nbconvert_exporter": "python",
   "pygments_lexer": "ipython3",
   "version": "3.11.7"
  }
 },
 "nbformat": 4,
 "nbformat_minor": 5
}
